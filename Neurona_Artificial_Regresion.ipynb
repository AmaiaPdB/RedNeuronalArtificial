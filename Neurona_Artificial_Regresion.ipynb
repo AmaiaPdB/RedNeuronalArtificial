{
  "nbformat": 4,
  "nbformat_minor": 0,
  "metadata": {
    "colab": {
      "name": "Neurona_Artificial_Regresion.ipynb",
      "provenance": [],
      "collapsed_sections": []
    },
    "kernelspec": {
      "name": "python3",
      "display_name": "Python 3"
    },
    "language_info": {
      "name": "python"
    }
  },
  "cells": [
    {
      "cell_type": "markdown",
      "source": [
        "# OBJETIVO: Vamos a crear el sistema de Machine Learning más sencillo: 1 capa, de 1 neurona, con 1 input.  \n",
        "\n",
        "## 1º: Importar las librerías necesarias. "
      ],
      "metadata": {
        "id": "XjTRAkq8kKfN"
      }
    },
    {
      "cell_type": "code",
      "execution_count": null,
      "metadata": {
        "id": "7b0s41dahgFX"
      },
      "outputs": [],
      "source": [
        "import tensorflow as tf\n",
        "from tensorflow import keras\n",
        "import numpy as np"
      ]
    },
    {
      "cell_type": "markdown",
      "source": [
        "## 2º: Definir el modelo. \n",
        "\n",
        "### Existen 3 formas de crear los modelos con TensorFlow: \n",
        "#### - Sequential Model: modelos simples\n",
        "#### - Functional API: modelos complejos con múltiples inputs y outputs\n",
        "#### - Model Subclassing: modelos totalmente personalizables\n",
        "\n",
        "### Ejemplo con 1 neurona, 1 capa y 1 input y sin función de activación:\n",
        "#### - \"nombre del modelo\" = tf.keras.Sequential()\n",
        "#### - Defino cada capa como [keras.layers. \"tipo de capa\"]\n",
        "#### - En este ejemplo se añade una capa de tipo Dense, con una unidad o neurona y con un solo input de entrada."
      ],
      "metadata": {
        "id": "sVdwDFF8jzpj"
      }
    },
    {
      "cell_type": "code",
      "source": [
        "model = tf.keras.Sequential([keras.layers.Dense(units=1, input_shape=[1])])"
      ],
      "metadata": {
        "id": "onaHlhfxj11Z"
      },
      "execution_count": null,
      "outputs": []
    },
    {
      "cell_type": "markdown",
      "source": [
        "## 3º: Compilar el modelo.\n",
        "\n",
        "### Compilar el modelo significa definir la función de error o pérdida y el algoritmo de optimización. \n",
        "###Cada situación tendrá una función de pérdida y una de optimización óptimas.\n",
        "###Para definirlas, se utiliza \"nombre del modelo\".compile (optimizer= \"nombre del optimizador\", loss= \"nombre de la función de pérdida\").\n",
        "### En este ejemplo utilizamos para el modelo llamado \"modelo\" la función de optimización SGD y como función de pérdida el error cuadrático medio.\n"
      ],
      "metadata": {
        "id": "-pWEhgcOj-oM"
      }
    },
    {
      "cell_type": "code",
      "source": [
        "model.compile(optimizer='sgd', loss='mean_squared_error')\n"
      ],
      "metadata": {
        "id": "ILFYLxExkFNe"
      },
      "execution_count": null,
      "outputs": []
    },
    {
      "cell_type": "markdown",
      "source": [
        "## 4º: Introducción del dataset de entrenamiento y de validación.\n",
        "\n",
        "### La red pide de entrada un tensor. Utilizaremos como tensor de entrada una matriz, es decir, un array. \n",
        "### Hemos importado en el primer paso la librería numpy dado que es muy útil manejar arrays, en especial su funcion np.array(), \n",
        "### a la cual le podemos pasar de argumento una lista y nos la transforma en array.\n",
        "### Vamos a introducirle a la neurona artificial que ya hemos programado los valores de PCR (Proteína C Reactiva) y los valores de bilirrubina \n",
        "### de pacientes con sospecha de colecistitis, asignándoles la varible \"y\" y la variable \"x\", respectivamente, \n",
        "### con el fin de predecir cuanto vale la PCR en pacientes con sospecha de colecistitis a partir de las cifras de bilirrubina.\n",
        "### Por lo tanto, introducimos como entrada un array con los valores de bilirrubina que llamamos \"x\" y un array con los valores de PCR, que llamamos \"y\", \n",
        "### para que la neurona encuentre las relaciones y aprenda a predecir en el futuro las PCR a partir de las cifras de bilirrubina."
      ],
      "metadata": {
        "id": "hOfm_dUWkYgW"
      }
    },
    {
      "cell_type": "code",
      "source": [
        "\n",
        "xs = np.array([0.0, 1.0, 2.0, 3.0, 4.0, 5.0], dtype=float)\n",
        "ys = np.array([1.0, 4.0, 7.0, 10.0, 13.0, 16.0], dtype=float)"
      ],
      "metadata": {
        "id": "How-zqCLkd1c"
      },
      "execution_count": null,
      "outputs": []
    },
    {
      "cell_type": "markdown",
      "source": [
        "## 5º: Configuración del entrenamiento.\n",
        "\n",
        "### La neurona comenzará probando con unos hiperparámetros aleatorios. Ajustará esos hiperparámetros (pesos, bias...) y repetirá el proceso \n",
        "### un número de veces o épocas.\n",
        "### En este ejemplo, elegimos entrenar 10 épocas."
      ],
      "metadata": {
        "id": "T05OivMQkrjE"
      }
    },
    {
      "cell_type": "code",
      "source": [
        "model.fit(xs, ys, epochs=10)"
      ],
      "metadata": {
        "id": "D1KSJQgqkn2-"
      },
      "execution_count": null,
      "outputs": []
    },
    {
      "cell_type": "markdown",
      "source": [
        "## 6º: Probar o testar el modelo con datos nuevos. \n",
        "\n",
        "### Con la red ya entrenada, podemos ahora intentar predicir el valor de \"y\" para un valor de \"x\" y, por tanto, probar el modelo, \n",
        "### con la siguiente función: print (\"nombre del modelo\".predict ([valor x ,0])"
      ],
      "metadata": {
        "id": "hWUakhRQlcuF"
      }
    },
    {
      "cell_type": "code",
      "source": [
        "print(model.predict([10.0]))"
      ],
      "metadata": {
        "id": "mQ1Cn6-FlizK"
      },
      "execution_count": null,
      "outputs": []
    },
    {
      "cell_type": "markdown",
      "source": [
        "\n",
        "### Nos dió el siguiente resultado: [[30.316078]]. \n",
        "### Vemos que este ejemplo, se adecúa permfectamente a la función f(x)=3x+1; por tanto si por ejemplo probamos con X=10, la red debería decirnos que el valor \n",
        "### de PCR es de 31. Sin embargo nos da un valor próximo, pero no exactamente 31. Esto es porque, aunque en nuestro ejemplo los 6 valores introducidos se \n",
        "### aproximan de forma perfecta a esa función f(x)=3x+1, en la realidad son pocos valores para concluir por una muestra tan pequeña que toda la realidad \n",
        "### se ajustaría a eso. La probabilidad de que la población en realidad se ajuste a esta recta a la perfección y que sea casualidad que la muestra obtenida \n",
        "### a partir de la misma lo haga está comtemplada por la red y por eso la predicción dada no es exactamente 31.\n",
        "### Además, si reiniciamos el entorno de ejecución y volvemos a correr el código, la predicción será ligeramente distinta, dado que los hiperparámetros \n",
        "### de la primera época no serán los mismos puesto que son aleatorios.\n",
        "\n",
        "# Esta práctica sirve en buena medida de introducción a la programación de redes y a uno de los dos grandes problemas que a día de hoy situan a las redes \n",
        "# neuronales como gold standard: los problemas de regresión. El otro problema (siguiente notebook) que las redes solventan como ningún otro problema son \n",
        "# los problemas de clasificación."
      ],
      "metadata": {
        "id": "nQbizxJ7lnIT"
      }
    }
  ]
}